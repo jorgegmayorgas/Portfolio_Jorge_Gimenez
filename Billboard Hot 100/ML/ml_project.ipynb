{
 "cells": [
  {
   "cell_type": "code",
   "execution_count": 2,
   "metadata": {},
   "outputs": [],
   "source": [
    "import data_functions as dafu\n",
    "import pandas as pd"
   ]
  },
  {
   "cell_type": "markdown",
   "metadata": {},
   "source": [
    "Musical genre conversion from object to list"
   ]
  },
  {
   "cell_type": "code",
   "execution_count": null,
   "metadata": {},
   "outputs": [],
   "source": [
    "# Example: Reading CSV with genres as strings and converting to lists\n",
    "file_path = './hot_100_audio_features_original.csv'\n",
    "df = pd.read_csv(file_path, converters={'Genres': dafu.convert_to_list})\n",
    "\n",
    "# Display the DataFrame\n",
    "print(df)"
   ]
  },
  {
   "cell_type": "markdown",
   "metadata": {},
   "source": [
    "First import CSV\n",
    "Change columns to lowercase\n",
    "Replace blanks with _\n",
    "Remove rows without musical genre\n",
    "Turn musical genre into a list\n",
    "OneHotEncoder of musical genre\n",
    "Three studies\n",
    "    Remove rows with null danceability\n",
    "    Null danceability to 0\n",
    "    Null danceability to median\n"
   ]
  }
 ],
 "metadata": {
  "kernelspec": {
   "display_name": "Python 3",
   "language": "python",
   "name": "python3"
  },
  "language_info": {
   "codemirror_mode": {
    "name": "ipython",
    "version": 3
   },
   "file_extension": ".py",
   "mimetype": "text/x-python",
   "name": "python",
   "nbconvert_exporter": "python",
   "pygments_lexer": "ipython3",
   "version": "3.10.11"
  }
 },
 "nbformat": 4,
 "nbformat_minor": 2
}
